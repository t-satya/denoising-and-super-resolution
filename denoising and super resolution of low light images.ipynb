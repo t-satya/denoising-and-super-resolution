{
 "cells": [
  {
   "cell_type": "code",
   "execution_count": 1,
   "id": "aa6d25ac",
   "metadata": {
    "execution": {
     "iopub.execute_input": "2024-12-16T20:17:40.706602Z",
     "iopub.status.busy": "2024-12-16T20:17:40.706264Z",
     "iopub.status.idle": "2024-12-16T20:17:45.932062Z",
     "shell.execute_reply": "2024-12-16T20:17:45.931127Z"
    },
    "id": "zGVT_c3Siq_G",
    "papermill": {
     "duration": 5.233588,
     "end_time": "2024-12-16T20:17:45.933995",
     "exception": false,
     "start_time": "2024-12-16T20:17:40.700407",
     "status": "completed"
    },
    "tags": []
   },
   "outputs": [],
   "source": [
    "import torch\n",
    "import torch.nn as nn\n",
    "import torch.optim as optim\n",
    "from torch.utils.data import DataLoader, Dataset\n",
    "from torchvision import transforms\n",
    "from torchvision.utils import save_image\n",
    "import os\n",
    "import numpy as np\n",
    "from PIL import Image"
   ]
  },
  {
   "cell_type": "code",
   "execution_count": 2,
   "id": "263b8095",
   "metadata": {
    "execution": {
     "iopub.execute_input": "2024-12-16T20:17:45.944563Z",
     "iopub.status.busy": "2024-12-16T20:17:45.944210Z",
     "iopub.status.idle": "2024-12-16T20:17:45.949293Z",
     "shell.execute_reply": "2024-12-16T20:17:45.948459Z"
    },
    "papermill": {
     "duration": 0.012734,
     "end_time": "2024-12-16T20:17:45.951020",
     "exception": false,
     "start_time": "2024-12-16T20:17:45.938286",
     "status": "completed"
    },
    "tags": []
   },
   "outputs": [],
   "source": [
    "class ResidualBlock(nn.Module):\n",
    "    def __init__(self, channels):\n",
    "        super(ResidualBlock, self).__init__()\n",
    "        self.block = nn.Sequential(\n",
    "            nn.Conv2d(channels, channels, kernel_size=3, padding=1),\n",
    "            nn.BatchNorm2d(channels),\n",
    "            nn.ReLU(inplace=True),\n",
    "            nn.Conv2d(channels, channels, kernel_size=3, padding=1),\n",
    "            nn.BatchNorm2d(channels)\n",
    "        )\n",
    "\n",
    "    def forward(self, x):\n",
    "        return x + self.block(x)  # Skip connection\n"
   ]
  },
  {
   "cell_type": "code",
   "execution_count": 3,
   "id": "d0f1d385",
   "metadata": {
    "execution": {
     "iopub.execute_input": "2024-12-16T20:17:45.959583Z",
     "iopub.status.busy": "2024-12-16T20:17:45.959336Z",
     "iopub.status.idle": "2024-12-16T20:17:45.964574Z",
     "shell.execute_reply": "2024-12-16T20:17:45.963763Z"
    },
    "papermill": {
     "duration": 0.011189,
     "end_time": "2024-12-16T20:17:45.966126",
     "exception": false,
     "start_time": "2024-12-16T20:17:45.954937",
     "status": "completed"
    },
    "tags": []
   },
   "outputs": [],
   "source": [
    "class LAB(nn.Module):\n",
    "    def __init__(self, channels, reduction=16):\n",
    "        super(LAB, self).__init__()\n",
    "        self.global_pool = nn.AdaptiveAvgPool2d(1)\n",
    "        self.fc = nn.Sequential(\n",
    "            nn.Linear(channels, channels // reduction, bias=False),\n",
    "            nn.ReLU(inplace=True),\n",
    "            nn.Linear(channels // reduction, channels, bias=False),\n",
    "            nn.Sigmoid()\n",
    "        )\n",
    "\n",
    "    def forward(self, x):\n",
    "        batch, channels, _, _ = x.size()\n",
    "        y = self.global_pool(x).view(batch, channels)\n",
    "        y = self.fc(y).view(batch, channels, 1, 1)\n",
    "        return x * y  # Scale the input with attention weights\n"
   ]
  },
  {
   "cell_type": "code",
   "execution_count": 4,
   "id": "8e27c9d6",
   "metadata": {
    "execution": {
     "iopub.execute_input": "2024-12-16T20:17:45.974721Z",
     "iopub.status.busy": "2024-12-16T20:17:45.974505Z",
     "iopub.status.idle": "2024-12-16T20:17:45.980396Z",
     "shell.execute_reply": "2024-12-16T20:17:45.979755Z"
    },
    "papermill": {
     "duration": 0.011803,
     "end_time": "2024-12-16T20:17:45.981824",
     "exception": false,
     "start_time": "2024-12-16T20:17:45.970021",
     "status": "completed"
    },
    "tags": []
   },
   "outputs": [],
   "source": [
    "class LightweightDenoiser(nn.Module):\n",
    "    def __init__(self):\n",
    "        super(LightweightDenoiser, self).__init__()\n",
    "        self.encoder = nn.Sequential(\n",
    "            nn.Conv2d(3, 64, kernel_size=3, stride=1, padding=1),\n",
    "            nn.ReLU(inplace=True),\n",
    "            nn.Conv2d(64, 128, kernel_size=3, stride=2, padding=1),\n",
    "            nn.ReLU(inplace=True)\n",
    "        )\n",
    "        self.residual_blocks = nn.Sequential(\n",
    "            *[ResidualBlock(128) for _ in range(4)]  # Fewer residual blocks for lightweight design\n",
    "        )\n",
    "        self.decoder = nn.Sequential(\n",
    "            nn.ConvTranspose2d(128, 64, kernel_size=3, stride=2, padding=1, output_padding=1),\n",
    "            nn.ReLU(inplace=True),\n",
    "            nn.Conv2d(64, 3, kernel_size=3, stride=1, padding=1)\n",
    "        )\n",
    "\n",
    "    def forward(self, x):\n",
    "        x = self.encoder(x)\n",
    "        x = self.residual_blocks(x)\n",
    "        x = self.decoder(x)\n",
    "        return x\n"
   ]
  },
  {
   "cell_type": "code",
   "execution_count": 5,
   "id": "a3edd9dd",
   "metadata": {
    "execution": {
     "iopub.execute_input": "2024-12-16T20:17:45.990296Z",
     "iopub.status.busy": "2024-12-16T20:17:45.990074Z",
     "iopub.status.idle": "2024-12-16T20:17:45.996085Z",
     "shell.execute_reply": "2024-12-16T20:17:45.995397Z"
    },
    "papermill": {
     "duration": 0.011997,
     "end_time": "2024-12-16T20:17:45.997612",
     "exception": false,
     "start_time": "2024-12-16T20:17:45.985615",
     "status": "completed"
    },
    "tags": []
   },
   "outputs": [],
   "source": [
    "class SuperResolutionNetLAKD(nn.Module):\n",
    "    def __init__(self, num_channels=3, num_features=64, num_blocks=8, scale=4):\n",
    "        super(SuperResolutionNetLAKD, self).__init__()\n",
    "        self.input = nn.Conv2d(num_channels, num_features, kernel_size=3, padding=1)\n",
    "\n",
    "        # Use Lightweight Attention Blocks\n",
    "        self.blocks = nn.Sequential(\n",
    "            *[LAB(num_features) for _ in range(num_blocks)]\n",
    "        )\n",
    "\n",
    "        # Upsampling with correct channel adjustments\n",
    "        self.upsample = nn.Sequential(\n",
    "            nn.Conv2d(num_features, num_features * (scale // 2) ** 2, kernel_size=3, padding=1),\n",
    "            nn.PixelShuffle(scale // 2),  # Upsample by 2x\n",
    "            nn.ReLU(inplace=True),\n",
    "            nn.Conv2d(num_features, num_features * (scale // 2) ** 2, kernel_size=3, padding=1),\n",
    "            nn.PixelShuffle(scale // 2),  # Upsample by another 2x\n",
    "            nn.ReLU(inplace=True),\n",
    "            nn.Conv2d(num_features, num_features, kernel_size=3, padding=1)  # Reduce back to num_features channels\n",
    "        )\n",
    "\n",
    "        self.output = nn.Conv2d(num_features, num_channels, kernel_size=3, padding=1)\n",
    "\n",
    "    def forward(self, x):\n",
    "        x = self.input(x)\n",
    "        x = self.blocks(x)\n",
    "        x = self.upsample(x)\n",
    "        return self.output(x)\n"
   ]
  },
  {
   "cell_type": "code",
   "execution_count": 6,
   "id": "f97456dd",
   "metadata": {
    "execution": {
     "iopub.execute_input": "2024-12-16T20:17:46.006228Z",
     "iopub.status.busy": "2024-12-16T20:17:46.006008Z",
     "iopub.status.idle": "2024-12-16T20:17:46.009999Z",
     "shell.execute_reply": "2024-12-16T20:17:46.009306Z"
    },
    "papermill": {
     "duration": 0.010051,
     "end_time": "2024-12-16T20:17:46.011514",
     "exception": false,
     "start_time": "2024-12-16T20:17:46.001463",
     "status": "completed"
    },
    "tags": []
   },
   "outputs": [],
   "source": [
    "class CombinedModel(nn.Module):\n",
    "    def __init__(self):\n",
    "        super(CombinedModel, self).__init__()\n",
    "        self.denoiser = LightweightDenoiser()\n",
    "        self.super_resolver = SuperResolutionNetLAKD()\n",
    "\n",
    "    def forward(self, x):\n",
    "        x = self.denoiser(x)\n",
    "        x = self.super_resolver(x)\n",
    "        return x\n"
   ]
  },
  {
   "cell_type": "code",
   "execution_count": 7,
   "id": "8716a33b",
   "metadata": {
    "execution": {
     "iopub.execute_input": "2024-12-16T20:17:46.020272Z",
     "iopub.status.busy": "2024-12-16T20:17:46.020057Z",
     "iopub.status.idle": "2024-12-16T20:17:46.025467Z",
     "shell.execute_reply": "2024-12-16T20:17:46.024847Z"
    },
    "id": "kWRUDCSojeFR",
    "papermill": {
     "duration": 0.011541,
     "end_time": "2024-12-16T20:17:46.026996",
     "exception": false,
     "start_time": "2024-12-16T20:17:46.015455",
     "status": "completed"
    },
    "tags": []
   },
   "outputs": [],
   "source": [
    "# Custom Dataset\n",
    "class LowLightDataset(Dataset):\n",
    "    def __init__(self, clean_dir, noisy_dir, transform=None):\n",
    "        self.noisy_dir = noisy_dir\n",
    "        self.transform = transform\n",
    "        self.clean_dir = clean_dir\n",
    "        self.image_list = os.listdir(noisy_dir)\n",
    "\n",
    "    def __len__(self):\n",
    "        return len(self.image_list)\n",
    "\n",
    "    def __getitem__(self, idx):\n",
    "        image_name = self.image_list[idx]\n",
    "        name, img_no = image_name.split(\"_\")\n",
    "        \n",
    "        noise_path = os.path.join(self.noisy_dir, self.image_list[idx])\n",
    "        clean_path = os.path.join(self.clean_dir, \"gt_\"+img_no)\n",
    "        \n",
    "        noise_img = Image.open(noise_path).convert(\"RGB\")\n",
    "        clean_image = Image.open(clean_path).convert(\"RGB\")\n",
    "        \n",
    "        if self.transform:\n",
    "            clean_image = self.transform(clean_image)\n",
    "            noise_img = self.transform(noise_img)\n",
    "        return clean_image, noise_img\n"
   ]
  },
  {
   "cell_type": "code",
   "execution_count": 8,
   "id": "12273240",
   "metadata": {
    "execution": {
     "iopub.execute_input": "2024-12-16T20:17:46.035669Z",
     "iopub.status.busy": "2024-12-16T20:17:46.035421Z",
     "iopub.status.idle": "2024-12-16T20:17:46.040144Z",
     "shell.execute_reply": "2024-12-16T20:17:46.039404Z"
    },
    "id": "JepE_RoQltmq",
    "papermill": {
     "duration": 0.01093,
     "end_time": "2024-12-16T20:17:46.041748",
     "exception": false,
     "start_time": "2024-12-16T20:17:46.030818",
     "status": "completed"
    },
    "tags": []
   },
   "outputs": [],
   "source": [
    "# Custom Dataset\n",
    "class TestLowLightDataset(Dataset):\n",
    "    def __init__(self, image_dir, transform=None):\n",
    "        self.image_dir = image_dir\n",
    "        self.transform = transform\n",
    "        self.image_list = os.listdir(image_dir)\n",
    "\n",
    "    def __len__(self):\n",
    "        return len(self.image_list)\n",
    "\n",
    "    def __getitem__(self, idx):\n",
    "        img_path = os.path.join(self.image_dir, self.image_list[idx])\n",
    "        image = Image.open(img_path).convert(\"RGB\")\n",
    "\n",
    "        if self.transform:\n",
    "            image = self.transform(image)\n",
    "\n",
    "        return image, self.image_list[idx]"
   ]
  },
  {
   "cell_type": "code",
   "execution_count": 9,
   "id": "4893de1a",
   "metadata": {
    "execution": {
     "iopub.execute_input": "2024-12-16T20:17:46.050253Z",
     "iopub.status.busy": "2024-12-16T20:17:46.050014Z",
     "iopub.status.idle": "2024-12-16T20:17:46.053461Z",
     "shell.execute_reply": "2024-12-16T20:17:46.052786Z"
    },
    "id": "rnv7aseimP1y",
    "papermill": {
     "duration": 0.00953,
     "end_time": "2024-12-16T20:17:46.055125",
     "exception": false,
     "start_time": "2024-12-16T20:17:46.045595",
     "status": "completed"
    },
    "tags": []
   },
   "outputs": [],
   "source": [
    "# DataLoader Setup\n",
    "transform = transforms.Compose([\n",
    "    transforms.ToTensor(),\n",
    "])"
   ]
  },
  {
   "cell_type": "code",
   "execution_count": 10,
   "id": "11c54ec2",
   "metadata": {
    "execution": {
     "iopub.execute_input": "2024-12-16T20:17:46.063747Z",
     "iopub.status.busy": "2024-12-16T20:17:46.063505Z",
     "iopub.status.idle": "2024-12-16T20:17:46.067183Z",
     "shell.execute_reply": "2024-12-16T20:17:46.066376Z"
    },
    "id": "oBD2f-RVnwGT",
    "papermill": {
     "duration": 0.009706,
     "end_time": "2024-12-16T20:17:46.068717",
     "exception": false,
     "start_time": "2024-12-16T20:17:46.059011",
     "status": "completed"
    },
    "tags": []
   },
   "outputs": [],
   "source": [
    "train_clean = r'/kaggle/input/enhance-the-dark-world/archive/train/gt'\n",
    "train_noisy = r'/kaggle/input/enhance-the-dark-world/archive/train/train'\n",
    "\n",
    "val_clean = r'/kaggle/input/enhance-the-dark-world/archive/val/gt'\n",
    "val_noisy = r'/kaggle/input/enhance-the-dark-world/archive/val/val'\n",
    "\n",
    "\n",
    "test = r'/kaggle/input/enhance-the-dark-world/archive/test'"
   ]
  },
  {
   "cell_type": "code",
   "execution_count": 11,
   "id": "562a4d15",
   "metadata": {
    "execution": {
     "iopub.execute_input": "2024-12-16T20:17:46.077110Z",
     "iopub.status.busy": "2024-12-16T20:17:46.076858Z",
     "iopub.status.idle": "2024-12-16T20:17:46.115055Z",
     "shell.execute_reply": "2024-12-16T20:17:46.114253Z"
    },
    "id": "j6nAp2ASufSL",
    "papermill": {
     "duration": 0.044235,
     "end_time": "2024-12-16T20:17:46.116757",
     "exception": false,
     "start_time": "2024-12-16T20:17:46.072522",
     "status": "completed"
    },
    "tags": []
   },
   "outputs": [],
   "source": [
    "train_dataset = LowLightDataset(train_clean,train_noisy, transform=transform)\n",
    "val_dataset = LowLightDataset(val_clean,val_noisy, transform=transform)\n",
    "test_dataset = TestLowLightDataset(test, transform = transform)"
   ]
  },
  {
   "cell_type": "code",
   "execution_count": 12,
   "id": "1d3c70b4",
   "metadata": {
    "execution": {
     "iopub.execute_input": "2024-12-16T20:17:46.125335Z",
     "iopub.status.busy": "2024-12-16T20:17:46.125116Z",
     "iopub.status.idle": "2024-12-16T20:17:46.129091Z",
     "shell.execute_reply": "2024-12-16T20:17:46.128382Z"
    },
    "id": "QcfMXEqnmo6D",
    "papermill": {
     "duration": 0.010023,
     "end_time": "2024-12-16T20:17:46.130682",
     "exception": false,
     "start_time": "2024-12-16T20:17:46.120659",
     "status": "completed"
    },
    "tags": []
   },
   "outputs": [],
   "source": [
    "train_loader = DataLoader(train_dataset, batch_size=16, shuffle=True, num_workers=4)\n",
    "val_loader = DataLoader(val_dataset, batch_size=16, shuffle=False, num_workers=4)\n",
    "test_loader = DataLoader(test_dataset, batch_size =16, shuffle = False, num_workers = 4)"
   ]
  },
  {
   "cell_type": "code",
   "execution_count": 13,
   "id": "7497b5a6",
   "metadata": {
    "execution": {
     "iopub.execute_input": "2024-12-16T20:17:46.139984Z",
     "iopub.status.busy": "2024-12-16T20:17:46.139725Z",
     "iopub.status.idle": "2024-12-16T20:17:46.145269Z",
     "shell.execute_reply": "2024-12-16T20:17:46.144455Z"
    },
    "id": "6hvzEeU1mKit",
    "papermill": {
     "duration": 0.012683,
     "end_time": "2024-12-16T20:17:46.147303",
     "exception": false,
     "start_time": "2024-12-16T20:17:46.134620",
     "status": "completed"
    },
    "tags": []
   },
   "outputs": [],
   "source": [
    "# Training Function\n",
    "def train_model(model, dataloader, optimizer, criterion, scaler, device):\n",
    "    model.train()\n",
    "    running_loss = 0.0\n",
    "    for clean_images, noisy_images in dataloader:\n",
    "        clean_images,noisy_images = clean_images.to(device), noisy_images.to(device)\n",
    "        optimizer.zero_grad()\n",
    "        with torch.cuda.amp.autocast():\n",
    "            outputs = model(noisy_images)\n",
    "            loss = criterion(outputs, clean_images)\n",
    "\n",
    "        scaler.scale(loss).backward()\n",
    "        scaler.step(optimizer)\n",
    "        scaler.update()\n",
    "\n",
    "        running_loss += loss.item()\n",
    "\n",
    "    return running_loss / len(dataloader)"
   ]
  },
  {
   "cell_type": "code",
   "execution_count": 14,
   "id": "fc9b7fb9",
   "metadata": {
    "execution": {
     "iopub.execute_input": "2024-12-16T20:17:46.157445Z",
     "iopub.status.busy": "2024-12-16T20:17:46.157192Z",
     "iopub.status.idle": "2024-12-16T20:17:46.161965Z",
     "shell.execute_reply": "2024-12-16T20:17:46.161134Z"
    },
    "id": "c1OV_neimOn8",
    "papermill": {
     "duration": 0.011588,
     "end_time": "2024-12-16T20:17:46.163664",
     "exception": false,
     "start_time": "2024-12-16T20:17:46.152076",
     "status": "completed"
    },
    "tags": []
   },
   "outputs": [],
   "source": [
    "# Validation Function\n",
    "def validate_model(model, dataloader, criterion, device):\n",
    "  model.eval()\n",
    "  running_loss = 0.0\n",
    "  with torch.no_grad():\n",
    "    for clean_images, noisy_images in dataloader:\n",
    "        clean_images = clean_images.to(device)\n",
    "        noisy_images = noisy_images.to(device)\n",
    "        outputs = model(noisy_images)\n",
    "        loss = criterion(outputs, clean_images)\n",
    "        running_loss += loss.item()\n",
    "  return running_loss / len(dataloader)"
   ]
  },
  {
   "cell_type": "code",
   "execution_count": 15,
   "id": "358e5f4c",
   "metadata": {
    "execution": {
     "iopub.execute_input": "2024-12-16T20:17:46.172555Z",
     "iopub.status.busy": "2024-12-16T20:17:46.172240Z",
     "iopub.status.idle": "2024-12-16T20:17:46.567376Z",
     "shell.execute_reply": "2024-12-16T20:17:46.566433Z"
    },
    "id": "M_q1FXJfmeLB",
    "papermill": {
     "duration": 0.401755,
     "end_time": "2024-12-16T20:17:46.569402",
     "exception": false,
     "start_time": "2024-12-16T20:17:46.167647",
     "status": "completed"
    },
    "tags": []
   },
   "outputs": [],
   "source": [
    "# Training Loop\n",
    "# shift the model to the GPU\n",
    "device = torch.device(\"cuda:0\" if torch.cuda.is_available() else \"cpu\")\n",
    "\n",
    "def initialize_weights(m):\n",
    "    if isinstance(m, nn.Conv2d) or isinstance(m, nn.Linear):\n",
    "        nn.init.kaiming_normal_(m.weight, nonlinearity='relu')\n",
    "        if m.bias is not None:\n",
    "            nn.init.constant_(m.bias, 0)\n",
    "model = CombinedModel()\n",
    "\n",
    "model = nn.DataParallel(model)  # Use GPUs 0 and 1\n",
    "model.apply(initialize_weights)  # Apply custom weight initialization\n",
    "\n",
    "model = model.to(device)\n",
    "\n",
    "criterion = nn.MSELoss()\n",
    "optimizer = optim.Adam(model.parameters(), lr=1e-4)\n",
    "scaler = torch.amp.GradScaler()"
   ]
  },
  {
   "cell_type": "code",
   "execution_count": 16,
   "id": "7fbf1f43",
   "metadata": {
    "execution": {
     "iopub.execute_input": "2024-12-16T20:17:46.578440Z",
     "iopub.status.busy": "2024-12-16T20:17:46.578152Z",
     "iopub.status.idle": "2024-12-16T21:40:19.441834Z",
     "shell.execute_reply": "2024-12-16T21:40:19.440689Z"
    },
    "id": "5ZANlLHlm0EB",
    "papermill": {
     "duration": 4952.877751,
     "end_time": "2024-12-16T21:40:19.451232",
     "exception": false,
     "start_time": "2024-12-16T20:17:46.573481",
     "status": "completed"
    },
    "tags": []
   },
   "outputs": [
    {
     "name": "stderr",
     "output_type": "stream",
     "text": [
      "/tmp/ipykernel_23/4267154192.py:8: FutureWarning: `torch.cuda.amp.autocast(args...)` is deprecated. Please use `torch.amp.autocast('cuda', args...)` instead.\n",
      "  with torch.cuda.amp.autocast():\n",
      "/opt/conda/lib/python3.10/site-packages/torch/nn/parallel/parallel_apply.py:79: FutureWarning: `torch.cuda.amp.autocast(args...)` is deprecated. Please use `torch.amp.autocast('cuda', args...)` instead.\n",
      "  with torch.cuda.device(device), torch.cuda.stream(stream), autocast(enabled=autocast_enabled):\n"
     ]
    },
    {
     "name": "stdout",
     "output_type": "stream",
     "text": [
      "Epoch 1/100, Train Loss: 0.008404980, Val Loss: 0.000565794\n",
      "Epoch 2/100, Train Loss: 0.000918865, Val Loss: 0.000467923\n",
      "Epoch 3/100, Train Loss: 0.000840137, Val Loss: 0.000507194\n",
      "Epoch 4/100, Train Loss: 0.000787239, Val Loss: 0.000407043\n",
      "Epoch 5/100, Train Loss: 0.000673114, Val Loss: 0.000380729\n",
      "Epoch 6/100, Train Loss: 0.000657342, Val Loss: 0.000427366\n",
      "Epoch 7/100, Train Loss: 0.000617800, Val Loss: 0.000465952\n",
      "Epoch 8/100, Train Loss: 0.000613486, Val Loss: 0.000323718\n",
      "Epoch 9/100, Train Loss: 0.000537856, Val Loss: 0.000309895\n",
      "Epoch 10/100, Train Loss: 0.000547556, Val Loss: 0.000292735\n",
      "Epoch 11/100, Train Loss: 0.000561846, Val Loss: 0.000307456\n",
      "Epoch 12/100, Train Loss: 0.000547525, Val Loss: 0.000264051\n",
      "Epoch 13/100, Train Loss: 0.000500008, Val Loss: 0.000295059\n",
      "Epoch 14/100, Train Loss: 0.000508573, Val Loss: 0.000252993\n",
      "Epoch 15/100, Train Loss: 0.000471223, Val Loss: 0.000261777\n",
      "Epoch 16/100, Train Loss: 0.000464571, Val Loss: 0.000261682\n",
      "Epoch 17/100, Train Loss: 0.000459081, Val Loss: 0.000259799\n",
      "Epoch 18/100, Train Loss: 0.000470319, Val Loss: 0.000271520\n",
      "Epoch 19/100, Train Loss: 0.000429286, Val Loss: 0.000262487\n",
      "Epoch 20/100, Train Loss: 0.000469410, Val Loss: 0.000232711\n",
      "Epoch 21/100, Train Loss: 0.000417494, Val Loss: 0.000239553\n",
      "Epoch 22/100, Train Loss: 0.000409915, Val Loss: 0.000227601\n",
      "Epoch 23/100, Train Loss: 0.000393293, Val Loss: 0.000235111\n",
      "Epoch 24/100, Train Loss: 0.000422056, Val Loss: 0.000303637\n",
      "Epoch 25/100, Train Loss: 0.000429150, Val Loss: 0.000349561\n",
      "Epoch 26/100, Train Loss: 0.000429479, Val Loss: 0.000223886\n",
      "Epoch 27/100, Train Loss: 0.000368266, Val Loss: 0.000260539\n",
      "Epoch 28/100, Train Loss: 0.000357573, Val Loss: 0.000217280\n",
      "Epoch 29/100, Train Loss: 0.000352446, Val Loss: 0.000230744\n",
      "Epoch 30/100, Train Loss: 0.000335684, Val Loss: 0.000206076\n",
      "Epoch 31/100, Train Loss: 0.000339294, Val Loss: 0.000226981\n",
      "Epoch 32/100, Train Loss: 0.000345965, Val Loss: 0.000207134\n",
      "Epoch 33/100, Train Loss: 0.000333808, Val Loss: 0.000201166\n",
      "Epoch 34/100, Train Loss: 0.000321184, Val Loss: 0.000209125\n",
      "Epoch 35/100, Train Loss: 0.000316012, Val Loss: 0.000200419\n",
      "Epoch 36/100, Train Loss: 0.000312728, Val Loss: 0.000204877\n",
      "Epoch 37/100, Train Loss: 0.000307654, Val Loss: 0.000195068\n",
      "Epoch 38/100, Train Loss: 0.000305188, Val Loss: 0.000204944\n",
      "Epoch 39/100, Train Loss: 0.000303446, Val Loss: 0.000200297\n",
      "Epoch 40/100, Train Loss: 0.000300532, Val Loss: 0.000195162\n",
      "Epoch 41/100, Train Loss: 0.000303062, Val Loss: 0.000191241\n",
      "Epoch 42/100, Train Loss: 0.000300853, Val Loss: 0.000187421\n",
      "Epoch 43/100, Train Loss: 0.000297778, Val Loss: 0.000185912\n",
      "Epoch 44/100, Train Loss: 0.000292825, Val Loss: 0.000201633\n",
      "Epoch 45/100, Train Loss: 0.000293350, Val Loss: 0.000217919\n",
      "Epoch 46/100, Train Loss: 0.000295921, Val Loss: 0.000198484\n",
      "Epoch 47/100, Train Loss: 0.000291188, Val Loss: 0.000212890\n",
      "Epoch 48/100, Train Loss: 0.000293827, Val Loss: 0.000197768\n",
      "Epoch 49/100, Train Loss: 0.000285640, Val Loss: 0.000195265\n",
      "Epoch 50/100, Train Loss: 0.000291465, Val Loss: 0.000191156\n",
      "Epoch 51/100, Train Loss: 0.000284587, Val Loss: 0.000179998\n",
      "Epoch 52/100, Train Loss: 0.000285884, Val Loss: 0.000218024\n",
      "Epoch 53/100, Train Loss: 0.000284830, Val Loss: 0.000187780\n",
      "Epoch 54/100, Train Loss: 0.000282833, Val Loss: 0.000188064\n",
      "Epoch 55/100, Train Loss: 0.000285054, Val Loss: 0.000195168\n",
      "Epoch 56/100, Train Loss: 0.000282437, Val Loss: 0.000187175\n",
      "Epoch 57/100, Train Loss: 0.000287217, Val Loss: 0.000188104\n",
      "Epoch 58/100, Train Loss: 0.000279656, Val Loss: 0.000186394\n",
      "Epoch 59/100, Train Loss: 0.000279740, Val Loss: 0.000198465\n",
      "Epoch 60/100, Train Loss: 0.000278816, Val Loss: 0.000190346\n",
      "Epoch 61/100, Train Loss: 0.000278820, Val Loss: 0.000177368\n",
      "Epoch 62/100, Train Loss: 0.000275080, Val Loss: 0.000178460\n",
      "Epoch 63/100, Train Loss: 0.000273899, Val Loss: 0.000201122\n",
      "Epoch 64/100, Train Loss: 0.000279578, Val Loss: 0.000185252\n",
      "Epoch 65/100, Train Loss: 0.000272762, Val Loss: 0.000187389\n",
      "Epoch 66/100, Train Loss: 0.000273778, Val Loss: 0.000193775\n",
      "Epoch 67/100, Train Loss: 0.000275534, Val Loss: 0.000183066\n",
      "Epoch 68/100, Train Loss: 0.000272473, Val Loss: 0.000188875\n",
      "Epoch 69/100, Train Loss: 0.000273674, Val Loss: 0.000195296\n",
      "Epoch 70/100, Train Loss: 0.000275443, Val Loss: 0.000213595\n",
      "Epoch 71/100, Train Loss: 0.000271425, Val Loss: 0.000176729\n",
      "Epoch 72/100, Train Loss: 0.000267921, Val Loss: 0.000178712\n",
      "Epoch 73/100, Train Loss: 0.000268216, Val Loss: 0.000172574\n",
      "Epoch 74/100, Train Loss: 0.000270035, Val Loss: 0.000171505\n",
      "Epoch 75/100, Train Loss: 0.000267052, Val Loss: 0.000184205\n",
      "Epoch 76/100, Train Loss: 0.000265616, Val Loss: 0.000182889\n",
      "Epoch 77/100, Train Loss: 0.000266782, Val Loss: 0.000176169\n",
      "Epoch 78/100, Train Loss: 0.000267185, Val Loss: 0.000209212\n",
      "Epoch 79/100, Train Loss: 0.000267713, Val Loss: 0.000180477\n",
      "Epoch 80/100, Train Loss: 0.000264342, Val Loss: 0.000174437\n",
      "Epoch 81/100, Train Loss: 0.000264200, Val Loss: 0.000197124\n",
      "Epoch 82/100, Train Loss: 0.000265129, Val Loss: 0.000195036\n",
      "Epoch 83/100, Train Loss: 0.000268389, Val Loss: 0.000193177\n",
      "Epoch 84/100, Train Loss: 0.000266307, Val Loss: 0.000176325\n",
      "Epoch 85/100, Train Loss: 0.000261517, Val Loss: 0.000180084\n",
      "Epoch 86/100, Train Loss: 0.000263734, Val Loss: 0.000173940\n",
      "Epoch 87/100, Train Loss: 0.000260904, Val Loss: 0.000176584\n",
      "Epoch 88/100, Train Loss: 0.000258541, Val Loss: 0.000187567\n",
      "Epoch 89/100, Train Loss: 0.000260068, Val Loss: 0.000178812\n",
      "Epoch 90/100, Train Loss: 0.000258425, Val Loss: 0.000165166\n",
      "Epoch 91/100, Train Loss: 0.000256969, Val Loss: 0.000174542\n",
      "Epoch 92/100, Train Loss: 0.000258896, Val Loss: 0.000164852\n",
      "Epoch 93/100, Train Loss: 0.000258459, Val Loss: 0.000176969\n",
      "Epoch 94/100, Train Loss: 0.000257639, Val Loss: 0.000172273\n",
      "Epoch 95/100, Train Loss: 0.000260154, Val Loss: 0.000335583\n",
      "Epoch 96/100, Train Loss: 0.000274077, Val Loss: 0.000170312\n",
      "Epoch 97/100, Train Loss: 0.000255708, Val Loss: 0.000166198\n",
      "Epoch 98/100, Train Loss: 0.000254038, Val Loss: 0.000182935\n",
      "Epoch 99/100, Train Loss: 0.000253992, Val Loss: 0.000179182\n",
      "Epoch 100/100, Train Loss: 0.000254699, Val Loss: 0.000172503\n"
     ]
    }
   ],
   "source": [
    "num_epochs = 100\n",
    "best_val_loss = float(\"inf\")\n",
    "\n",
    "for epoch in range(num_epochs):\n",
    "\n",
    "  train_loss = train_model(model, train_loader, optimizer, criterion, scaler, device)\n",
    "  val_loss = validate_model(model, val_loader, criterion, device)\n",
    "\n",
    "  if val_loss < best_val_loss:\n",
    "      best_val_loss = val_loss\n",
    "      torch.save(model.state_dict(), \"best_model.pth\")\n",
    "\n",
    "  print(f\"Epoch {epoch+1}/{num_epochs}, Train Loss: {train_loss:.9f}, Val Loss: {val_loss:.9f}\")"
   ]
  },
  {
   "cell_type": "code",
   "execution_count": 17,
   "id": "ebf3291c",
   "metadata": {
    "execution": {
     "iopub.execute_input": "2024-12-16T21:40:19.468943Z",
     "iopub.status.busy": "2024-12-16T21:40:19.468616Z",
     "iopub.status.idle": "2024-12-16T21:40:19.473121Z",
     "shell.execute_reply": "2024-12-16T21:40:19.472418Z"
    },
    "papermill": {
     "duration": 0.015385,
     "end_time": "2024-12-16T21:40:19.474641",
     "exception": false,
     "start_time": "2024-12-16T21:40:19.459256",
     "status": "completed"
    },
    "tags": []
   },
   "outputs": [],
   "source": [
    "os.makedirs('/kaggle/working/test_final',exist_ok=True)\n",
    "final_path = \"/kaggle/working/test_final\""
   ]
  },
  {
   "cell_type": "code",
   "execution_count": 18,
   "id": "452aa4e5",
   "metadata": {
    "execution": {
     "iopub.execute_input": "2024-12-16T21:40:19.491513Z",
     "iopub.status.busy": "2024-12-16T21:40:19.491066Z",
     "iopub.status.idle": "2024-12-16T21:40:19.496681Z",
     "shell.execute_reply": "2024-12-16T21:40:19.496025Z"
    },
    "papermill": {
     "duration": 0.01581,
     "end_time": "2024-12-16T21:40:19.498222",
     "exception": false,
     "start_time": "2024-12-16T21:40:19.482412",
     "status": "completed"
    },
    "tags": []
   },
   "outputs": [],
   "source": [
    "def test_prediction(model, test_loader, device, path):\n",
    "    model.eval()\n",
    "    with torch.no_grad():\n",
    "        with tqdm(total = len(test_loader), desc = 'Testing', unit = 'batch') as tepoch:\n",
    "            for noise_imgs, img_name in test_loader:\n",
    "                noise_imgs = noise_imgs.to(device)\n",
    "\n",
    "                outputs = model(noise_imgs)\n",
    "\n",
    "                for idx in range(outputs.shape[0]):\n",
    "                    # Scale the output tensor to [0, 1]\n",
    "                    predicted_img = outputs[idx].squeeze(0).cpu()\n",
    "                    \n",
    "                    # Save the image with the given name\n",
    "                    out_path = os.path.join(path, f\"{img_name[idx]}\")\n",
    "                    save_image(predicted_img, out_path)\n",
    "\n",
    "                tepoch.update(1)"
   ]
  },
  {
   "cell_type": "code",
   "execution_count": 19,
   "id": "820dc6d0",
   "metadata": {
    "execution": {
     "iopub.execute_input": "2024-12-16T21:40:19.515221Z",
     "iopub.status.busy": "2024-12-16T21:40:19.514998Z",
     "iopub.status.idle": "2024-12-16T21:40:19.518681Z",
     "shell.execute_reply": "2024-12-16T21:40:19.517902Z"
    },
    "papermill": {
     "duration": 0.014216,
     "end_time": "2024-12-16T21:40:19.520353",
     "exception": false,
     "start_time": "2024-12-16T21:40:19.506137",
     "status": "completed"
    },
    "tags": []
   },
   "outputs": [],
   "source": [
    "from tqdm import tqdm"
   ]
  },
  {
   "cell_type": "markdown",
   "id": "84bbcada",
   "metadata": {
    "papermill": {
     "duration": 0.007845,
     "end_time": "2024-12-16T21:40:19.536039",
     "exception": false,
     "start_time": "2024-12-16T21:40:19.528194",
     "status": "completed"
    },
    "tags": []
   },
   "source": [
    "## Loading Best Model"
   ]
  },
  {
   "cell_type": "code",
   "execution_count": 20,
   "id": "af0a289c",
   "metadata": {
    "execution": {
     "iopub.execute_input": "2024-12-16T21:40:19.552760Z",
     "iopub.status.busy": "2024-12-16T21:40:19.552539Z",
     "iopub.status.idle": "2024-12-16T21:40:19.578517Z",
     "shell.execute_reply": "2024-12-16T21:40:19.577693Z"
    },
    "papermill": {
     "duration": 0.036542,
     "end_time": "2024-12-16T21:40:19.580312",
     "exception": false,
     "start_time": "2024-12-16T21:40:19.543770",
     "status": "completed"
    },
    "tags": []
   },
   "outputs": [
    {
     "name": "stderr",
     "output_type": "stream",
     "text": [
      "/tmp/ipykernel_23/1833195287.py:1: FutureWarning: You are using `torch.load` with `weights_only=False` (the current default value), which uses the default pickle module implicitly. It is possible to construct malicious pickle data which will execute arbitrary code during unpickling (See https://github.com/pytorch/pytorch/blob/main/SECURITY.md#untrusted-models for more details). In a future release, the default value for `weights_only` will be flipped to `True`. This limits the functions that could be executed during unpickling. Arbitrary objects will no longer be allowed to be loaded via this mode unless they are explicitly allowlisted by the user via `torch.serialization.add_safe_globals`. We recommend you start setting `weights_only=True` for any use case where you don't have full control of the loaded file. Please open an issue on GitHub for any issues related to this experimental feature.\n",
      "  model.load_state_dict(torch.load(\"best_model.pth\"))\n"
     ]
    },
    {
     "data": {
      "text/plain": [
       "<All keys matched successfully>"
      ]
     },
     "execution_count": 20,
     "metadata": {},
     "output_type": "execute_result"
    }
   ],
   "source": [
    "model.load_state_dict(torch.load(\"best_model.pth\"))"
   ]
  },
  {
   "cell_type": "code",
   "execution_count": 21,
   "id": "d3ac3849",
   "metadata": {
    "execution": {
     "iopub.execute_input": "2024-12-16T21:40:19.597300Z",
     "iopub.status.busy": "2024-12-16T21:40:19.597083Z",
     "iopub.status.idle": "2024-12-16T21:40:42.939006Z",
     "shell.execute_reply": "2024-12-16T21:40:42.937889Z"
    },
    "papermill": {
     "duration": 23.352459,
     "end_time": "2024-12-16T21:40:42.940753",
     "exception": false,
     "start_time": "2024-12-16T21:40:19.588294",
     "status": "completed"
    },
    "tags": []
   },
   "outputs": [
    {
     "name": "stderr",
     "output_type": "stream",
     "text": [
      "Testing: 100%|██████████| 4/4 [00:23<00:00,  5.83s/batch]\n"
     ]
    }
   ],
   "source": [
    "test_prediction(model,test_loader,device, final_path)"
   ]
  },
  {
   "cell_type": "code",
   "execution_count": 22,
   "id": "47d44a3d",
   "metadata": {
    "execution": {
     "iopub.execute_input": "2024-12-16T21:40:42.959280Z",
     "iopub.status.busy": "2024-12-16T21:40:42.959006Z",
     "iopub.status.idle": "2024-12-16T21:41:26.445767Z",
     "shell.execute_reply": "2024-12-16T21:41:26.444891Z"
    },
    "papermill": {
     "duration": 43.507445,
     "end_time": "2024-12-16T21:41:26.456923",
     "exception": false,
     "start_time": "2024-12-16T21:40:42.949478",
     "status": "completed"
    },
    "tags": []
   },
   "outputs": [
    {
     "name": "stdout",
     "output_type": "stream",
     "text": [
      "Successfully saved to 21f1000641.csv\n"
     ]
    }
   ],
   "source": [
    "import os\n",
    "import numpy as np\n",
    "import pandas as pd\n",
    "from PIL import Image\n",
    "\n",
    "def images_to_csv(folder_path, output_csv):\n",
    "    data_rows = []\n",
    "    for filename in os.listdir(folder_path):\n",
    "        if filename.endswith(('.png', '.jpg', '.jpeg', '.bmp', '.tiff')):\n",
    "            image_path = os.path.join(folder_path, filename)\n",
    "            image = Image.open(image_path).convert('L') \n",
    "            image_array = np.array(image).flatten()[::8]\n",
    "            # Replace 'test_' with 'gt_' in the ID\n",
    "            image_id = filename.split('.')[0].replace('test_', 'gt_')\n",
    "            data_rows.append([image_id, *image_array])\n",
    "    column_names = ['ID'] + [f'pixel_{i}' for i in range(len(data_rows[0]) - 1)]\n",
    "    df = pd.DataFrame(data_rows, columns=column_names)\n",
    "    df.to_csv(output_csv, index=False)\n",
    "    print(f'Successfully saved to {output_csv}')\n",
    "\n",
    "folder_path = final_path\n",
    "output_csv = '21f1000641.csv'\n",
    "images_to_csv(folder_path, output_csv)"
   ]
  }
 ],
 "metadata": {
  "colab": {
   "provenance": []
  },
  "kaggle": {
   "accelerator": "nvidiaTeslaT4",
   "dataSources": [
    {
     "databundleVersionId": 10486094,
     "sourceId": 89760,
     "sourceType": "competition"
    }
   ],
   "dockerImageVersionId": 30805,
   "isGpuEnabled": true,
   "isInternetEnabled": true,
   "language": "python",
   "sourceType": "notebook"
  },
  "kernelspec": {
   "display_name": "Python 3",
   "language": "python",
   "name": "python3"
  },
  "language_info": {
   "codemirror_mode": {
    "name": "ipython",
    "version": 3
   },
   "file_extension": ".py",
   "mimetype": "text/x-python",
   "name": "python",
   "nbconvert_exporter": "python",
   "pygments_lexer": "ipython3",
   "version": "3.10.14"
  },
  "papermill": {
   "default_parameters": {},
   "duration": 5030.246248,
   "end_time": "2024-12-16T21:41:28.288523",
   "environment_variables": {},
   "exception": null,
   "input_path": "__notebook__.ipynb",
   "output_path": "__notebook__.ipynb",
   "parameters": {},
   "start_time": "2024-12-16T20:17:38.042275",
   "version": "2.6.0"
  }
 },
 "nbformat": 4,
 "nbformat_minor": 5
}
